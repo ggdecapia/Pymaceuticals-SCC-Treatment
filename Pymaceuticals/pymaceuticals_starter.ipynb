{
 "cells": [
  {
   "cell_type": "markdown",
   "metadata": {},
   "source": [
    "## Observations and Insights "
   ]
  },
  {
   "cell_type": "markdown",
   "metadata": {},
   "source": []
  },
  {
   "cell_type": "code",
   "execution_count": 1,
   "metadata": {},
   "outputs": [],
   "source": [
    "# Dependencies and Setup\n",
    "import matplotlib.pyplot as plt\n",
    "import pandas as pd\n",
    "import scipy.stats as st\n",
    "import numpy as np\n",
    "\n",
    "# Study data files\n",
    "mouse_metadata_path = \"data/Mouse_metadata.csv\"\n",
    "study_results_path = \"data/Study_results.csv\"\n",
    "\n",
    "# Read the mouse data and the study results\n",
    "mouse_metadata = pd.read_csv(mouse_metadata_path)\n",
    "study_results = pd.read_csv(study_results_path)"
   ]
  },
  {
   "cell_type": "code",
   "execution_count": 2,
   "metadata": {},
   "outputs": [],
   "source": [
    "# Combine the data into a single dataset\n",
    "mouse_data_df = pd.merge(mouse_metadata,study_results,on=\"Mouse ID\")"
   ]
  },
  {
   "cell_type": "code",
   "execution_count": 3,
   "metadata": {},
   "outputs": [
    {
     "data": {
      "text/plain": [
       "249"
      ]
     },
     "execution_count": 3,
     "metadata": {},
     "output_type": "execute_result"
    }
   ],
   "source": [
    "# Checking the number of mice.\n",
    "No_of_Mice = len(mouse_data_df[\"Mouse ID\"].unique())\n",
    "No_of_Mice"
   ]
  },
  {
   "cell_type": "code",
   "execution_count": 4,
   "metadata": {},
   "outputs": [
    {
     "data": {
      "text/html": [
       "<div>\n",
       "<style scoped>\n",
       "    .dataframe tbody tr th:only-of-type {\n",
       "        vertical-align: middle;\n",
       "    }\n",
       "\n",
       "    .dataframe tbody tr th {\n",
       "        vertical-align: top;\n",
       "    }\n",
       "\n",
       "    .dataframe thead th {\n",
       "        text-align: right;\n",
       "    }\n",
       "</style>\n",
       "<table border=\"1\" class=\"dataframe\">\n",
       "  <thead>\n",
       "    <tr style=\"text-align: right;\">\n",
       "      <th></th>\n",
       "      <th>Mouse ID</th>\n",
       "      <th>Timepoint</th>\n",
       "      <th>Drug Regimen</th>\n",
       "      <th>Sex</th>\n",
       "      <th>Age_months</th>\n",
       "      <th>Weight (g)</th>\n",
       "      <th>Tumor Volume (mm3)</th>\n",
       "      <th>Metastatic Sites</th>\n",
       "    </tr>\n",
       "  </thead>\n",
       "  <tbody>\n",
       "    <tr>\n",
       "      <th>0</th>\n",
       "      <td>g989</td>\n",
       "      <td>0</td>\n",
       "      <td>2</td>\n",
       "      <td>2</td>\n",
       "      <td>2</td>\n",
       "      <td>2</td>\n",
       "      <td>2</td>\n",
       "      <td>2</td>\n",
       "    </tr>\n",
       "    <tr>\n",
       "      <th>1</th>\n",
       "      <td>g989</td>\n",
       "      <td>5</td>\n",
       "      <td>2</td>\n",
       "      <td>2</td>\n",
       "      <td>2</td>\n",
       "      <td>2</td>\n",
       "      <td>2</td>\n",
       "      <td>2</td>\n",
       "    </tr>\n",
       "    <tr>\n",
       "      <th>2</th>\n",
       "      <td>g989</td>\n",
       "      <td>10</td>\n",
       "      <td>2</td>\n",
       "      <td>2</td>\n",
       "      <td>2</td>\n",
       "      <td>2</td>\n",
       "      <td>2</td>\n",
       "      <td>2</td>\n",
       "    </tr>\n",
       "    <tr>\n",
       "      <th>3</th>\n",
       "      <td>g989</td>\n",
       "      <td>15</td>\n",
       "      <td>2</td>\n",
       "      <td>2</td>\n",
       "      <td>2</td>\n",
       "      <td>2</td>\n",
       "      <td>2</td>\n",
       "      <td>2</td>\n",
       "    </tr>\n",
       "    <tr>\n",
       "      <th>4</th>\n",
       "      <td>g989</td>\n",
       "      <td>20</td>\n",
       "      <td>2</td>\n",
       "      <td>2</td>\n",
       "      <td>2</td>\n",
       "      <td>2</td>\n",
       "      <td>2</td>\n",
       "      <td>2</td>\n",
       "    </tr>\n",
       "  </tbody>\n",
       "</table>\n",
       "</div>"
      ],
      "text/plain": [
       "  Mouse ID  Timepoint  Drug Regimen  Sex  Age_months  Weight (g)  \\\n",
       "0     g989          0             2    2           2           2   \n",
       "1     g989          5             2    2           2           2   \n",
       "2     g989         10             2    2           2           2   \n",
       "3     g989         15             2    2           2           2   \n",
       "4     g989         20             2    2           2           2   \n",
       "\n",
       "   Tumor Volume (mm3)  Metastatic Sites  \n",
       "0                   2                 2  \n",
       "1                   2                 2  \n",
       "2                   2                 2  \n",
       "3                   2                 2  \n",
       "4                   2                 2  "
      ]
     },
     "execution_count": 4,
     "metadata": {},
     "output_type": "execute_result"
    }
   ],
   "source": [
    "# Getting the duplicate mice by ID number that shows up for Mouse ID and Timepoint. \n",
    "# Display the data table for preview\n",
    "dupe_mouse_data = mouse_data_df.groupby([\"Mouse ID\",\"Timepoint\"])\n",
    "dupe_mouse_data_df = pd.DataFrame(dupe_mouse_data.count())\n",
    "dupe_mouse_data_df = dupe_mouse_data_df.loc[dupe_mouse_data_df[\"Metastatic Sites\"] > 1, :]\n",
    "dupe_mouse_data_df = dupe_mouse_data_df.reset_index(drop=False)\n",
    "dupe_mouse_data_df"
   ]
  },
  {
   "cell_type": "code",
   "execution_count": 5,
   "metadata": {},
   "outputs": [
    {
     "data": {
      "text/plain": [
       "array(['g989'], dtype=object)"
      ]
     },
     "execution_count": 5,
     "metadata": {},
     "output_type": "execute_result"
    }
   ],
   "source": [
    "# Optional: Get all the data for the duplicate mouse ID. \n",
    "list_of_dupe = dupe_mouse_data_df[\"Mouse ID\"].unique()\n",
    "list_of_dupe"
   ]
  },
  {
   "cell_type": "code",
   "execution_count": 6,
   "metadata": {},
   "outputs": [
    {
     "data": {
      "text/plain": [
       "Mouse ID              1880\n",
       "Drug Regimen          1880\n",
       "Sex                   1880\n",
       "Age_months            1880\n",
       "Weight (g)            1880\n",
       "Timepoint             1880\n",
       "Tumor Volume (mm3)    1880\n",
       "Metastatic Sites      1880\n",
       "dtype: int64"
      ]
     },
     "execution_count": 6,
     "metadata": {},
     "output_type": "execute_result"
    }
   ],
   "source": [
    "# Create a clean DataFrame by dropping the duplicate mouse by its ID.\n",
    "for ID in list_of_dupe:\n",
    "    cleaned_mouse_data_df = mouse_data_df.loc[mouse_data_df[\"Mouse ID\"] != ID, :]\n",
    "cleaned_mouse_data_df.count()"
   ]
  },
  {
   "cell_type": "code",
   "execution_count": 7,
   "metadata": {},
   "outputs": [
    {
     "data": {
      "text/plain": [
       "248"
      ]
     },
     "execution_count": 7,
     "metadata": {},
     "output_type": "execute_result"
    }
   ],
   "source": [
    "# Check the number of mice in the clean DataFrame.\n",
    "No_of_Mice = len(cleaned_mouse_data_df[\"Mouse ID\"].unique())\n",
    "No_of_Mice"
   ]
  },
  {
   "cell_type": "markdown",
   "metadata": {},
   "source": [
    "## Summary Statistics"
   ]
  },
  {
   "cell_type": "code",
   "execution_count": 8,
   "metadata": {},
   "outputs": [
    {
     "data": {
      "text/html": [
       "<div>\n",
       "<style scoped>\n",
       "    .dataframe tbody tr th:only-of-type {\n",
       "        vertical-align: middle;\n",
       "    }\n",
       "\n",
       "    .dataframe tbody tr th {\n",
       "        vertical-align: top;\n",
       "    }\n",
       "\n",
       "    .dataframe thead th {\n",
       "        text-align: right;\n",
       "    }\n",
       "</style>\n",
       "<table border=\"1\" class=\"dataframe\">\n",
       "  <thead>\n",
       "    <tr style=\"text-align: right;\">\n",
       "      <th></th>\n",
       "      <th>Average</th>\n",
       "      <th>Median</th>\n",
       "      <th>Standard Dev</th>\n",
       "      <th>SEM</th>\n",
       "    </tr>\n",
       "    <tr>\n",
       "      <th>Drug Regimen</th>\n",
       "      <th></th>\n",
       "      <th></th>\n",
       "      <th></th>\n",
       "      <th></th>\n",
       "    </tr>\n",
       "  </thead>\n",
       "  <tbody>\n",
       "    <tr>\n",
       "      <th>Capomulin</th>\n",
       "      <td>40.675741</td>\n",
       "      <td>41.557809</td>\n",
       "      <td>4.994774</td>\n",
       "      <td>0.329346</td>\n",
       "    </tr>\n",
       "    <tr>\n",
       "      <th>Ceftamin</th>\n",
       "      <td>52.591172</td>\n",
       "      <td>51.776157</td>\n",
       "      <td>6.268188</td>\n",
       "      <td>0.469821</td>\n",
       "    </tr>\n",
       "    <tr>\n",
       "      <th>Infubinol</th>\n",
       "      <td>52.884795</td>\n",
       "      <td>51.820584</td>\n",
       "      <td>6.567243</td>\n",
       "      <td>0.492236</td>\n",
       "    </tr>\n",
       "    <tr>\n",
       "      <th>Ketapril</th>\n",
       "      <td>55.235638</td>\n",
       "      <td>53.698743</td>\n",
       "      <td>8.279709</td>\n",
       "      <td>0.603860</td>\n",
       "    </tr>\n",
       "    <tr>\n",
       "      <th>Naftisol</th>\n",
       "      <td>54.331565</td>\n",
       "      <td>52.509285</td>\n",
       "      <td>8.134708</td>\n",
       "      <td>0.596466</td>\n",
       "    </tr>\n",
       "    <tr>\n",
       "      <th>Placebo</th>\n",
       "      <td>54.033581</td>\n",
       "      <td>52.288934</td>\n",
       "      <td>7.821003</td>\n",
       "      <td>0.581331</td>\n",
       "    </tr>\n",
       "    <tr>\n",
       "      <th>Propriva</th>\n",
       "      <td>52.320930</td>\n",
       "      <td>50.446266</td>\n",
       "      <td>6.622085</td>\n",
       "      <td>0.544332</td>\n",
       "    </tr>\n",
       "    <tr>\n",
       "      <th>Ramicane</th>\n",
       "      <td>40.216745</td>\n",
       "      <td>40.673236</td>\n",
       "      <td>4.846308</td>\n",
       "      <td>0.320955</td>\n",
       "    </tr>\n",
       "    <tr>\n",
       "      <th>Stelasyn</th>\n",
       "      <td>54.233149</td>\n",
       "      <td>52.431737</td>\n",
       "      <td>7.710419</td>\n",
       "      <td>0.573111</td>\n",
       "    </tr>\n",
       "    <tr>\n",
       "      <th>Zoniferol</th>\n",
       "      <td>53.236507</td>\n",
       "      <td>51.818479</td>\n",
       "      <td>6.966589</td>\n",
       "      <td>0.516398</td>\n",
       "    </tr>\n",
       "  </tbody>\n",
       "</table>\n",
       "</div>"
      ],
      "text/plain": [
       "                Average     Median  Standard Dev       SEM\n",
       "Drug Regimen                                              \n",
       "Capomulin     40.675741  41.557809      4.994774  0.329346\n",
       "Ceftamin      52.591172  51.776157      6.268188  0.469821\n",
       "Infubinol     52.884795  51.820584      6.567243  0.492236\n",
       "Ketapril      55.235638  53.698743      8.279709  0.603860\n",
       "Naftisol      54.331565  52.509285      8.134708  0.596466\n",
       "Placebo       54.033581  52.288934      7.821003  0.581331\n",
       "Propriva      52.320930  50.446266      6.622085  0.544332\n",
       "Ramicane      40.216745  40.673236      4.846308  0.320955\n",
       "Stelasyn      54.233149  52.431737      7.710419  0.573111\n",
       "Zoniferol     53.236507  51.818479      6.966589  0.516398"
      ]
     },
     "execution_count": 8,
     "metadata": {},
     "output_type": "execute_result"
    }
   ],
   "source": [
    "# Method 1:  Generate a summary statistics table of mean, median, variance, standard deviation, and SEM of the tumor volume for each regimen\n",
    "# This method is the most straighforward, creating multiple series and putting them all together at the end.\n",
    "drug_regimen_group1 = cleaned_mouse_data_df.groupby([\"Drug Regimen\"])\n",
    "tumor_volume_average = drug_regimen_group1[\"Tumor Volume (mm3)\"].mean()\n",
    "tumor_volume_median = drug_regimen_group1[\"Tumor Volume (mm3)\"].median()\n",
    "tumor_volume_stdev = drug_regimen_group1[\"Tumor Volume (mm3)\"].std()\n",
    "tumor_volume_SEM = drug_regimen_group1[\"Tumor Volume (mm3)\"].sem()\n",
    "\n",
    "summary_statistics = pd.DataFrame({\"Average\": tumor_volume_average,\n",
    "                                   \"Median\": tumor_volume_median,\n",
    "                                   \"Standard Dev\": tumor_volume_stdev,\n",
    "                                   \"SEM\": tumor_volume_SEM})\n",
    "summary_statistics"
   ]
  },
  {
   "cell_type": "code",
   "execution_count": 9,
   "metadata": {},
   "outputs": [
    {
     "data": {
      "text/html": [
       "<div>\n",
       "<style scoped>\n",
       "    .dataframe tbody tr th:only-of-type {\n",
       "        vertical-align: middle;\n",
       "    }\n",
       "\n",
       "    .dataframe tbody tr th {\n",
       "        vertical-align: top;\n",
       "    }\n",
       "\n",
       "    .dataframe thead tr th {\n",
       "        text-align: left;\n",
       "    }\n",
       "\n",
       "    .dataframe thead tr:last-of-type th {\n",
       "        text-align: right;\n",
       "    }\n",
       "</style>\n",
       "<table border=\"1\" class=\"dataframe\">\n",
       "  <thead>\n",
       "    <tr>\n",
       "      <th></th>\n",
       "      <th colspan=\"4\" halign=\"left\">Age_months</th>\n",
       "      <th colspan=\"4\" halign=\"left\">Weight (g)</th>\n",
       "      <th colspan=\"4\" halign=\"left\">Timepoint</th>\n",
       "      <th colspan=\"4\" halign=\"left\">Tumor Volume (mm3)</th>\n",
       "      <th colspan=\"4\" halign=\"left\">Metastatic Sites</th>\n",
       "    </tr>\n",
       "    <tr>\n",
       "      <th></th>\n",
       "      <th>mean</th>\n",
       "      <th>median</th>\n",
       "      <th>std</th>\n",
       "      <th>sem</th>\n",
       "      <th>mean</th>\n",
       "      <th>median</th>\n",
       "      <th>std</th>\n",
       "      <th>sem</th>\n",
       "      <th>mean</th>\n",
       "      <th>median</th>\n",
       "      <th>std</th>\n",
       "      <th>sem</th>\n",
       "      <th>mean</th>\n",
       "      <th>median</th>\n",
       "      <th>std</th>\n",
       "      <th>sem</th>\n",
       "      <th>mean</th>\n",
       "      <th>median</th>\n",
       "      <th>std</th>\n",
       "      <th>sem</th>\n",
       "    </tr>\n",
       "    <tr>\n",
       "      <th>Drug Regimen</th>\n",
       "      <th></th>\n",
       "      <th></th>\n",
       "      <th></th>\n",
       "      <th></th>\n",
       "      <th></th>\n",
       "      <th></th>\n",
       "      <th></th>\n",
       "      <th></th>\n",
       "      <th></th>\n",
       "      <th></th>\n",
       "      <th></th>\n",
       "      <th></th>\n",
       "      <th></th>\n",
       "      <th></th>\n",
       "      <th></th>\n",
       "      <th></th>\n",
       "      <th></th>\n",
       "      <th></th>\n",
       "      <th></th>\n",
       "      <th></th>\n",
       "    </tr>\n",
       "  </thead>\n",
       "  <tbody>\n",
       "    <tr>\n",
       "      <th>Capomulin</th>\n",
       "      <td>13.456522</td>\n",
       "      <td>16.5</td>\n",
       "      <td>7.721423</td>\n",
       "      <td>0.509136</td>\n",
       "      <td>19.965217</td>\n",
       "      <td>20.5</td>\n",
       "      <td>2.732404</td>\n",
       "      <td>0.180169</td>\n",
       "      <td>21.565217</td>\n",
       "      <td>20</td>\n",
       "      <td>14.384994</td>\n",
       "      <td>0.948518</td>\n",
       "      <td>40.675741</td>\n",
       "      <td>41.557809</td>\n",
       "      <td>4.994774</td>\n",
       "      <td>0.329346</td>\n",
       "      <td>0.713043</td>\n",
       "      <td>0</td>\n",
       "      <td>0.848993</td>\n",
       "      <td>0.055981</td>\n",
       "    </tr>\n",
       "    <tr>\n",
       "      <th>Ceftamin</th>\n",
       "      <td>13.247191</td>\n",
       "      <td>12.0</td>\n",
       "      <td>8.071406</td>\n",
       "      <td>0.604977</td>\n",
       "      <td>27.398876</td>\n",
       "      <td>28.0</td>\n",
       "      <td>1.581460</td>\n",
       "      <td>0.118535</td>\n",
       "      <td>19.747191</td>\n",
       "      <td>20</td>\n",
       "      <td>14.283969</td>\n",
       "      <td>1.070629</td>\n",
       "      <td>52.591172</td>\n",
       "      <td>51.776157</td>\n",
       "      <td>6.268188</td>\n",
       "      <td>0.469821</td>\n",
       "      <td>1.179775</td>\n",
       "      <td>1</td>\n",
       "      <td>1.184283</td>\n",
       "      <td>0.088766</td>\n",
       "    </tr>\n",
       "    <tr>\n",
       "      <th>Infubinol</th>\n",
       "      <td>16.230337</td>\n",
       "      <td>20.0</td>\n",
       "      <td>7.510278</td>\n",
       "      <td>0.562919</td>\n",
       "      <td>27.196629</td>\n",
       "      <td>27.0</td>\n",
       "      <td>2.183810</td>\n",
       "      <td>0.163684</td>\n",
       "      <td>18.174157</td>\n",
       "      <td>15</td>\n",
       "      <td>13.473473</td>\n",
       "      <td>1.009879</td>\n",
       "      <td>52.884795</td>\n",
       "      <td>51.820584</td>\n",
       "      <td>6.567243</td>\n",
       "      <td>0.492236</td>\n",
       "      <td>0.960674</td>\n",
       "      <td>1</td>\n",
       "      <td>1.027104</td>\n",
       "      <td>0.076985</td>\n",
       "    </tr>\n",
       "    <tr>\n",
       "      <th>Ketapril</th>\n",
       "      <td>15.659574</td>\n",
       "      <td>18.0</td>\n",
       "      <td>6.019670</td>\n",
       "      <td>0.439030</td>\n",
       "      <td>27.861702</td>\n",
       "      <td>28.0</td>\n",
       "      <td>1.841884</td>\n",
       "      <td>0.134333</td>\n",
       "      <td>19.707447</td>\n",
       "      <td>20</td>\n",
       "      <td>14.029935</td>\n",
       "      <td>1.023238</td>\n",
       "      <td>55.235638</td>\n",
       "      <td>53.698743</td>\n",
       "      <td>8.279709</td>\n",
       "      <td>0.603860</td>\n",
       "      <td>1.297872</td>\n",
       "      <td>1</td>\n",
       "      <td>1.393873</td>\n",
       "      <td>0.101659</td>\n",
       "    </tr>\n",
       "    <tr>\n",
       "      <th>Naftisol</th>\n",
       "      <td>12.000000</td>\n",
       "      <td>9.0</td>\n",
       "      <td>6.715855</td>\n",
       "      <td>0.492430</td>\n",
       "      <td>27.166667</td>\n",
       "      <td>27.0</td>\n",
       "      <td>1.499249</td>\n",
       "      <td>0.109930</td>\n",
       "      <td>19.623656</td>\n",
       "      <td>20</td>\n",
       "      <td>14.184814</td>\n",
       "      <td>1.040081</td>\n",
       "      <td>54.331565</td>\n",
       "      <td>52.509285</td>\n",
       "      <td>8.134708</td>\n",
       "      <td>0.596466</td>\n",
       "      <td>1.182796</td>\n",
       "      <td>1</td>\n",
       "      <td>1.216519</td>\n",
       "      <td>0.089200</td>\n",
       "    </tr>\n",
       "    <tr>\n",
       "      <th>Placebo</th>\n",
       "      <td>10.734807</td>\n",
       "      <td>10.0</td>\n",
       "      <td>6.354907</td>\n",
       "      <td>0.472356</td>\n",
       "      <td>27.928177</td>\n",
       "      <td>28.0</td>\n",
       "      <td>1.837973</td>\n",
       "      <td>0.136615</td>\n",
       "      <td>18.674033</td>\n",
       "      <td>15</td>\n",
       "      <td>13.890798</td>\n",
       "      <td>1.032495</td>\n",
       "      <td>54.033581</td>\n",
       "      <td>52.288934</td>\n",
       "      <td>7.821003</td>\n",
       "      <td>0.581331</td>\n",
       "      <td>1.441989</td>\n",
       "      <td>1</td>\n",
       "      <td>1.338824</td>\n",
       "      <td>0.099514</td>\n",
       "    </tr>\n",
       "    <tr>\n",
       "      <th>Propriva</th>\n",
       "      <td>10.006757</td>\n",
       "      <td>7.5</td>\n",
       "      <td>6.946341</td>\n",
       "      <td>0.570986</td>\n",
       "      <td>27.135135</td>\n",
       "      <td>26.0</td>\n",
       "      <td>1.712891</td>\n",
       "      <td>0.140799</td>\n",
       "      <td>17.060811</td>\n",
       "      <td>15</td>\n",
       "      <td>13.676648</td>\n",
       "      <td>1.124214</td>\n",
       "      <td>52.320930</td>\n",
       "      <td>50.446266</td>\n",
       "      <td>6.622085</td>\n",
       "      <td>0.544332</td>\n",
       "      <td>1.013514</td>\n",
       "      <td>1</td>\n",
       "      <td>1.106484</td>\n",
       "      <td>0.090952</td>\n",
       "    </tr>\n",
       "    <tr>\n",
       "      <th>Ramicane</th>\n",
       "      <td>10.684211</td>\n",
       "      <td>9.0</td>\n",
       "      <td>5.946629</td>\n",
       "      <td>0.393825</td>\n",
       "      <td>19.679825</td>\n",
       "      <td>19.0</td>\n",
       "      <td>3.235014</td>\n",
       "      <td>0.214244</td>\n",
       "      <td>21.425439</td>\n",
       "      <td>20</td>\n",
       "      <td>14.275720</td>\n",
       "      <td>0.945433</td>\n",
       "      <td>40.216745</td>\n",
       "      <td>40.673236</td>\n",
       "      <td>4.846308</td>\n",
       "      <td>0.320955</td>\n",
       "      <td>0.548246</td>\n",
       "      <td>0</td>\n",
       "      <td>0.691259</td>\n",
       "      <td>0.045780</td>\n",
       "    </tr>\n",
       "    <tr>\n",
       "      <th>Stelasyn</th>\n",
       "      <td>12.784530</td>\n",
       "      <td>14.0</td>\n",
       "      <td>7.939562</td>\n",
       "      <td>0.590143</td>\n",
       "      <td>27.856354</td>\n",
       "      <td>28.0</td>\n",
       "      <td>1.643616</td>\n",
       "      <td>0.122169</td>\n",
       "      <td>19.226519</td>\n",
       "      <td>20</td>\n",
       "      <td>13.842710</td>\n",
       "      <td>1.028921</td>\n",
       "      <td>54.233149</td>\n",
       "      <td>52.431737</td>\n",
       "      <td>7.710419</td>\n",
       "      <td>0.573111</td>\n",
       "      <td>0.872928</td>\n",
       "      <td>1</td>\n",
       "      <td>0.972046</td>\n",
       "      <td>0.072252</td>\n",
       "    </tr>\n",
       "    <tr>\n",
       "      <th>Zoniferol</th>\n",
       "      <td>12.598901</td>\n",
       "      <td>12.5</td>\n",
       "      <td>5.786114</td>\n",
       "      <td>0.428895</td>\n",
       "      <td>27.692308</td>\n",
       "      <td>28.0</td>\n",
       "      <td>1.419612</td>\n",
       "      <td>0.105229</td>\n",
       "      <td>19.368132</td>\n",
       "      <td>15</td>\n",
       "      <td>14.384679</td>\n",
       "      <td>1.066263</td>\n",
       "      <td>53.236507</td>\n",
       "      <td>51.818479</td>\n",
       "      <td>6.966589</td>\n",
       "      <td>0.516398</td>\n",
       "      <td>1.230769</td>\n",
       "      <td>1</td>\n",
       "      <td>1.248884</td>\n",
       "      <td>0.092573</td>\n",
       "    </tr>\n",
       "  </tbody>\n",
       "</table>\n",
       "</div>"
      ],
      "text/plain": [
       "             Age_months                            Weight (g)         \\\n",
       "                   mean median       std       sem       mean median   \n",
       "Drug Regimen                                                           \n",
       "Capomulin     13.456522   16.5  7.721423  0.509136  19.965217   20.5   \n",
       "Ceftamin      13.247191   12.0  8.071406  0.604977  27.398876   28.0   \n",
       "Infubinol     16.230337   20.0  7.510278  0.562919  27.196629   27.0   \n",
       "Ketapril      15.659574   18.0  6.019670  0.439030  27.861702   28.0   \n",
       "Naftisol      12.000000    9.0  6.715855  0.492430  27.166667   27.0   \n",
       "Placebo       10.734807   10.0  6.354907  0.472356  27.928177   28.0   \n",
       "Propriva      10.006757    7.5  6.946341  0.570986  27.135135   26.0   \n",
       "Ramicane      10.684211    9.0  5.946629  0.393825  19.679825   19.0   \n",
       "Stelasyn      12.784530   14.0  7.939562  0.590143  27.856354   28.0   \n",
       "Zoniferol     12.598901   12.5  5.786114  0.428895  27.692308   28.0   \n",
       "\n",
       "                                  Timepoint                              \\\n",
       "                   std       sem       mean median        std       sem   \n",
       "Drug Regimen                                                              \n",
       "Capomulin     2.732404  0.180169  21.565217     20  14.384994  0.948518   \n",
       "Ceftamin      1.581460  0.118535  19.747191     20  14.283969  1.070629   \n",
       "Infubinol     2.183810  0.163684  18.174157     15  13.473473  1.009879   \n",
       "Ketapril      1.841884  0.134333  19.707447     20  14.029935  1.023238   \n",
       "Naftisol      1.499249  0.109930  19.623656     20  14.184814  1.040081   \n",
       "Placebo       1.837973  0.136615  18.674033     15  13.890798  1.032495   \n",
       "Propriva      1.712891  0.140799  17.060811     15  13.676648  1.124214   \n",
       "Ramicane      3.235014  0.214244  21.425439     20  14.275720  0.945433   \n",
       "Stelasyn      1.643616  0.122169  19.226519     20  13.842710  1.028921   \n",
       "Zoniferol     1.419612  0.105229  19.368132     15  14.384679  1.066263   \n",
       "\n",
       "             Tumor Volume (mm3)                                 \\\n",
       "                           mean     median       std       sem   \n",
       "Drug Regimen                                                     \n",
       "Capomulin             40.675741  41.557809  4.994774  0.329346   \n",
       "Ceftamin              52.591172  51.776157  6.268188  0.469821   \n",
       "Infubinol             52.884795  51.820584  6.567243  0.492236   \n",
       "Ketapril              55.235638  53.698743  8.279709  0.603860   \n",
       "Naftisol              54.331565  52.509285  8.134708  0.596466   \n",
       "Placebo               54.033581  52.288934  7.821003  0.581331   \n",
       "Propriva              52.320930  50.446266  6.622085  0.544332   \n",
       "Ramicane              40.216745  40.673236  4.846308  0.320955   \n",
       "Stelasyn              54.233149  52.431737  7.710419  0.573111   \n",
       "Zoniferol             53.236507  51.818479  6.966589  0.516398   \n",
       "\n",
       "             Metastatic Sites                             \n",
       "                         mean median       std       sem  \n",
       "Drug Regimen                                              \n",
       "Capomulin            0.713043      0  0.848993  0.055981  \n",
       "Ceftamin             1.179775      1  1.184283  0.088766  \n",
       "Infubinol            0.960674      1  1.027104  0.076985  \n",
       "Ketapril             1.297872      1  1.393873  0.101659  \n",
       "Naftisol             1.182796      1  1.216519  0.089200  \n",
       "Placebo              1.441989      1  1.338824  0.099514  \n",
       "Propriva             1.013514      1  1.106484  0.090952  \n",
       "Ramicane             0.548246      0  0.691259  0.045780  \n",
       "Stelasyn             0.872928      1  0.972046  0.072252  \n",
       "Zoniferol            1.230769      1  1.248884  0.092573  "
      ]
     },
     "execution_count": 9,
     "metadata": {},
     "output_type": "execute_result"
    }
   ],
   "source": [
    "# Method 2(optional): Generate a summary statistics table of mean, median, variance, standard deviation, and SEM of the tumor volume for each regimen\n",
    "# This method produces everything in a single groupby function. (https://pandas.pydata.org/pandas-docs/version/0.22.0/generated/pandas.core.groupby.DataFrameGroupBy.agg.html)\n",
    "drug_regimen_group2 = cleaned_mouse_data_df.groupby(\"Drug Regimen\").agg([\"mean\",\"median\",\"std\",\"sem\"])\n",
    "drug_regimen_group2"
   ]
  },
  {
   "cell_type": "markdown",
   "metadata": {},
   "source": [
    "## Bar and Pie Charts"
   ]
  },
  {
   "cell_type": "code",
   "execution_count": 10,
   "metadata": {},
   "outputs": [
    {
     "data": {
      "image/png": "[encoded data removed]",
      "text/plain": [
       "<Figure size 432x288 with 1 Axes>"
      ]
     },
     "metadata": {
      "needs_background": "light"
     },
     "output_type": "display_data"
    },
    {
     "data": {
      "text/plain": [
       "<Figure size 432x288 with 0 Axes>"
      ]
     },
     "metadata": {},
     "output_type": "display_data"
    }
   ],
   "source": [
    "# Use Pandas to generate a bar plot showing the total number of mice in each treatment regimen throughout the course of the study. \n",
    "## Note: this plot will be identical to the one that uses Pyplot\n",
    "regimen_count_df = pd.DataFrame(cleaned_mouse_data_df[\"Drug Regimen\"].value_counts())\n",
    "regimen_count_df = regimen_count_df.reset_index(drop=False)\n",
    "regimen_count_df\n",
    "\n",
    "multi_plot = regimen_count_df.plot(kind=\"bar\", figsize=(6,4), color='r')\n",
    "multi_plot.set_xticklabels(regimen_count_df[\"index\"], rotation=45)\n",
    "\n",
    "plt.title(\"Treatment Regimen Summary\")\n",
    "plt.xlabel(\"Drug Regimen\")\n",
    "plt.ylabel(\"Number of Mouse Treated\")\n",
    "plt.show()\n",
    "plt.tight_layout()"
   ]
  },
  {
   "cell_type": "code",
   "execution_count": 11,
   "metadata": {},
   "outputs": [
    {
     "data": {
      "image/png": "[encoded data removed]",
      "text/plain": [
       "<Figure size 432x288 with 1 Axes>"
      ]
     },
     "metadata": {
      "needs_background": "light"
     },
     "output_type": "display_data"
    },
    {
     "data": {
      "text/plain": [
       "<Figure size 432x288 with 0 Axes>"
      ]
     },
     "metadata": {},
     "output_type": "display_data"
    }
   ],
   "source": [
    "# Use Pyplot to generate a bar plot showing the total number of mice treatment in each treatment regimen throughout the course of the study.\n",
    "##  Note: this plot will be identical to the one that uses Pandas\n",
    "mouse_and_regimen = regimen_count_df[[\"index\",\"Drug Regimen\"]]\n",
    "x_axis = mouse_and_regimen[\"index\"]\n",
    "y_axis = mouse_and_regimen[\"Drug Regimen\"]\n",
    "\n",
    "plt.bar(x_axis, y_axis, color='r', alpha=.5, align=\"center\")\n",
    "plt.xticks(x_axis, rotation=45)\n",
    "plt.title(\"Treatment Regimen Summary\")\n",
    "plt.xlabel(\"Drug Regimen\")\n",
    "plt.ylabel(\"Number of Mouse Treated\")\n",
    "\n",
    "plt.show()\n",
    "plt.tight_layout()"
   ]
  },
  {
   "cell_type": "code",
   "execution_count": 90,
   "metadata": {},
   "outputs": [
    {
     "data": {
      "text/html": [
       "<div>\n",
       "<style scoped>\n",
       "    .dataframe tbody tr th:only-of-type {\n",
       "        vertical-align: middle;\n",
       "    }\n",
       "\n",
       "    .dataframe tbody tr th {\n",
       "        vertical-align: top;\n",
       "    }\n",
       "\n",
       "    .dataframe thead th {\n",
       "        text-align: right;\n",
       "    }\n",
       "</style>\n",
       "<table border=\"1\" class=\"dataframe\">\n",
       "  <thead>\n",
       "    <tr style=\"text-align: right;\">\n",
       "      <th></th>\n",
       "      <th>index</th>\n",
       "      <th>Sex</th>\n",
       "    </tr>\n",
       "  </thead>\n",
       "  <tbody>\n",
       "    <tr>\n",
       "      <th>0</th>\n",
       "      <td>Male</td>\n",
       "      <td>125</td>\n",
       "    </tr>\n",
       "    <tr>\n",
       "      <th>1</th>\n",
       "      <td>Female</td>\n",
       "      <td>123</td>\n",
       "    </tr>\n",
       "  </tbody>\n",
       "</table>\n",
       "</div>"
      ],
      "text/plain": [
       "    index  Sex\n",
       "0    Male  125\n",
       "1  Female  123"
      ]
     },
     "execution_count": 90,
     "metadata": {},
     "output_type": "execute_result"
    }
   ],
   "source": [
    "mouse_gender_df = pd.DataFrame(cleaned_mouse_data_df[[\"Mouse ID\",\"Sex\"]])\n",
    "mouse_gender_df = mouse_gender_df.drop_duplicates(keep='last')\n",
    "mouse_gender_df\n",
    "\n",
    "gender_data_df = pd.DataFrame(mouse_gender_df[\"Sex\"].value_counts())\n",
    "gender_data_df = gender_data_df.reset_index(drop=False)\n",
    "gender_data_df"
   ]
  },
  {
   "cell_type": "code",
   "execution_count": 91,
   "metadata": {},
   "outputs": [
    {
     "data": {
      "image/png": "[encoded data removed]",
      "text/plain": [
       "<Figure size 432x288 with 1 Axes>"
      ]
     },
     "metadata": {},
     "output_type": "display_data"
    },
    {
     "data": {
      "text/plain": [
       "<Figure size 432x288 with 0 Axes>"
      ]
     },
     "metadata": {},
     "output_type": "display_data"
    }
   ],
   "source": [
    "# Use Pandas to generate a pie plot showing the distribution of female versus male mice\n",
    "#ax1 = plt.subplot(121, aspect='equal')\n",
    "explode = (0.1,0)\n",
    "multi_plot = gender_data_df.plot(kind=\"pie\", y = \"Sex\", autopct='%1.1f%%', startangle=90, shadow=False, \n",
    "                                 labels=gender_data_df[\"index\"], legend = False, fontsize=14, explode=explode,)\n",
    "\n",
    "plt.title(\"Mouse Gender Summary\")\n",
    "plt.ylabel(\"\")\n",
    "plt.show()\n",
    "plt.tight_layout()\n",
    "## Note: this plot will be identical to the one that uses Pyplot"
   ]
  },
  {
   "cell_type": "code",
   "execution_count": 92,
   "metadata": {},
   "outputs": [
    {
     "data": {
      "image/png": "[encoded data removed]",
      "text/plain": [
       "<Figure size 432x288 with 1 Axes>"
      ]
     },
     "metadata": {},
     "output_type": "display_data"
    }
   ],
   "source": [
    "# Use Pyplot to generate a pie plot showing the distribution of female versus male mice\n",
    "##  Note: this plot will be identical to the one that uses Pandas\n",
    "gender = gender_data_df[\"index\"]\n",
    "gender_count = gender_data_df[\"Sex\"]\n",
    "explode = (0.1,0)\n",
    "\n",
    "plt.title(\"Mouse Gender Summary\")\n",
    "\n",
    "plt.pie(gender_count, explode=explode, labels=gender, #colors=colors,\n",
    "        autopct=\"%1.1f%%\", shadow=True, startangle=90)\n",
    "plt.axis(\"equal\")\n",
    "plt.show()"
   ]
  },
  {
   "cell_type": "markdown",
   "metadata": {},
   "source": [
    "## Quartiles, Outliers and Boxplots"
   ]
  },
  {
   "cell_type": "code",
   "execution_count": null,
   "metadata": {},
   "outputs": [],
   "source": [
    "# Calculate the final tumor volume of each mouse across four of the drug regimens:  \n",
    "# Capomulin, Ramicane, Infubinol, and Ceftamin\n",
    "\n",
    "# Start by getting the last (latest) timepoint for each mouse\n",
    "\n",
    "\n",
    "# Merge this group df with the original dataframe to get the tumor volume at the last timepoint\n"
   ]
  },
  {
   "cell_type": "code",
   "execution_count": null,
   "metadata": {},
   "outputs": [],
   "source": [
    "# Put the four drug regimens into a list that can be iterated over in a for-loop \n",
    "# (and later used for plot labels)\n",
    "\n",
    "\n",
    "# Create empty list to fill with tumor vol data (for plotting)\n",
    "\n",
    "\n",
    "# Calculate the IQR and quantitatively determine if there are any potential outliers. \n",
    "\n",
    "    \n",
    "    # Locate the rows which contain mice on each drug and get the tumor volumes\n",
    "    \n",
    "    \n",
    "    # add subset \n",
    "    \n",
    "    \n",
    "    # Determine outliers using upper and lower bounds\n",
    "    "
   ]
  },
  {
   "cell_type": "code",
   "execution_count": null,
   "metadata": {},
   "outputs": [],
   "source": [
    "# Generate a box plot of the final tumor volume of each mouse across four regimens of interest\n"
   ]
  },
  {
   "cell_type": "markdown",
   "metadata": {},
   "source": [
    "## Line and Scatter Plots"
   ]
  },
  {
   "cell_type": "code",
   "execution_count": null,
   "metadata": {},
   "outputs": [],
   "source": [
    "# Generate a line plot of tumor volume vs. timepoint for a mouse treated with Capomulin\n"
   ]
  },
  {
   "cell_type": "code",
   "execution_count": null,
   "metadata": {},
   "outputs": [],
   "source": [
    "# Generate a scatter plot of average tumor volume vs. mouse weight for the Capomulin regimen. \n",
    "# Note: this means mouse weight goes on the x-axis, with average tumor volume on the y-axis. \n"
   ]
  },
  {
   "cell_type": "markdown",
   "metadata": {},
   "source": [
    "## Correlation and Regression"
   ]
  },
  {
   "cell_type": "code",
   "execution_count": null,
   "metadata": {},
   "outputs": [],
   "source": [
    "# Calculate the correlation coefficient and linear regression model \n",
    "# for mouse weight and average tumor volume for the Capomulin regimen.\n"
   ]
  },
  {
   "cell_type": "code",
   "execution_count": null,
   "metadata": {},
   "outputs": [],
   "source": []
  }
 ],
 "metadata": {
  "anaconda-cloud": {},
  "kernelspec": {
   "display_name": "Python 3",
   "language": "python",
   "name": "python3"
  },
  "language_info": {
   "codemirror_mode": {
    "name": "ipython",
    "version": 3
   },
   "file_extension": ".py",
   "mimetype": "text/x-python",
   "name": "python",
   "nbconvert_exporter": "python",
   "pygments_lexer": "ipython3",
   "version": "3.7.6"
  }
 },
 "nbformat": 4,
 "nbformat_minor": 2
}
